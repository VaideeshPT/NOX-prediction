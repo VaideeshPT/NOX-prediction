{
 "cells": [
  {
   "cell_type": "markdown",
   "id": "suburban-surname",
   "metadata": {},
   "source": [
    "### Write a decision tree to monitor the demand for bicycles."
   ]
  },
  {
   "cell_type": "code",
   "execution_count": 1,
   "id": "enhanced-stress",
   "metadata": {},
   "outputs": [],
   "source": [
    "#necessary libraries\n",
    "import numpy as np\n",
    "import pandas as pd\n",
    "import random\n",
    "import matplotlib.pyplot as plt\n",
    "from collections import Counter\n",
    "#from treelib import Node, Tree\n",
    "from sklearn.preprocessing import LabelEncoder\n",
    "from sklearn.model_selection import train_test_split\n",
    "from pprint import pprint\n",
    "import warnings\n",
    "warnings.filterwarnings(\"ignore\")\n",
    "\n",
    "%matplotlib inline"
   ]
  },
  {
   "cell_type": "code",
   "execution_count": 2,
   "id": "cleared-helmet",
   "metadata": {
    "scrolled": false
   },
   "outputs": [
    {
     "data": {
      "text/html": [
       "<div>\n",
       "<style scoped>\n",
       "    .dataframe tbody tr th:only-of-type {\n",
       "        vertical-align: middle;\n",
       "    }\n",
       "\n",
       "    .dataframe tbody tr th {\n",
       "        vertical-align: top;\n",
       "    }\n",
       "\n",
       "    .dataframe thead th {\n",
       "        text-align: right;\n",
       "    }\n",
       "</style>\n",
       "<table border=\"1\" class=\"dataframe\">\n",
       "  <thead>\n",
       "    <tr style=\"text-align: right;\">\n",
       "      <th></th>\n",
       "      <th>instant</th>\n",
       "      <th>dteday</th>\n",
       "      <th>season</th>\n",
       "      <th>yr</th>\n",
       "      <th>mnth</th>\n",
       "      <th>holiday</th>\n",
       "      <th>weekday</th>\n",
       "      <th>workingday</th>\n",
       "      <th>weathersit</th>\n",
       "      <th>temp</th>\n",
       "      <th>atemp</th>\n",
       "      <th>hum</th>\n",
       "      <th>windspeed</th>\n",
       "      <th>casual</th>\n",
       "      <th>registered</th>\n",
       "      <th>count</th>\n",
       "    </tr>\n",
       "  </thead>\n",
       "  <tbody>\n",
       "    <tr>\n",
       "      <th>0</th>\n",
       "      <td>1</td>\n",
       "      <td>01/01/2011</td>\n",
       "      <td>1</td>\n",
       "      <td>0</td>\n",
       "      <td>1</td>\n",
       "      <td>0</td>\n",
       "      <td>6</td>\n",
       "      <td>0</td>\n",
       "      <td>2</td>\n",
       "      <td>14.11</td>\n",
       "      <td>18.18</td>\n",
       "      <td>0.81</td>\n",
       "      <td>0.16</td>\n",
       "      <td>331</td>\n",
       "      <td>654</td>\n",
       "      <td>985</td>\n",
       "    </tr>\n",
       "    <tr>\n",
       "      <th>1</th>\n",
       "      <td>2</td>\n",
       "      <td>02/01/2011</td>\n",
       "      <td>1</td>\n",
       "      <td>0</td>\n",
       "      <td>1</td>\n",
       "      <td>0</td>\n",
       "      <td>0</td>\n",
       "      <td>0</td>\n",
       "      <td>2</td>\n",
       "      <td>14.90</td>\n",
       "      <td>17.69</td>\n",
       "      <td>0.70</td>\n",
       "      <td>0.25</td>\n",
       "      <td>131</td>\n",
       "      <td>670</td>\n",
       "      <td>801</td>\n",
       "    </tr>\n",
       "    <tr>\n",
       "      <th>2</th>\n",
       "      <td>3</td>\n",
       "      <td>03/01/2011</td>\n",
       "      <td>1</td>\n",
       "      <td>0</td>\n",
       "      <td>1</td>\n",
       "      <td>0</td>\n",
       "      <td>1</td>\n",
       "      <td>1</td>\n",
       "      <td>1</td>\n",
       "      <td>8.05</td>\n",
       "      <td>9.47</td>\n",
       "      <td>0.44</td>\n",
       "      <td>0.25</td>\n",
       "      <td>120</td>\n",
       "      <td>1229</td>\n",
       "      <td>1349</td>\n",
       "    </tr>\n",
       "    <tr>\n",
       "      <th>3</th>\n",
       "      <td>4</td>\n",
       "      <td>04/01/2011</td>\n",
       "      <td>1</td>\n",
       "      <td>0</td>\n",
       "      <td>1</td>\n",
       "      <td>0</td>\n",
       "      <td>2</td>\n",
       "      <td>1</td>\n",
       "      <td>1</td>\n",
       "      <td>8.20</td>\n",
       "      <td>10.61</td>\n",
       "      <td>0.59</td>\n",
       "      <td>0.16</td>\n",
       "      <td>108</td>\n",
       "      <td>1454</td>\n",
       "      <td>1562</td>\n",
       "    </tr>\n",
       "    <tr>\n",
       "      <th>4</th>\n",
       "      <td>5</td>\n",
       "      <td>05/01/2011</td>\n",
       "      <td>1</td>\n",
       "      <td>0</td>\n",
       "      <td>1</td>\n",
       "      <td>0</td>\n",
       "      <td>3</td>\n",
       "      <td>1</td>\n",
       "      <td>1</td>\n",
       "      <td>9.31</td>\n",
       "      <td>11.46</td>\n",
       "      <td>0.44</td>\n",
       "      <td>0.19</td>\n",
       "      <td>82</td>\n",
       "      <td>1518</td>\n",
       "      <td>1600</td>\n",
       "    </tr>\n",
       "  </tbody>\n",
       "</table>\n",
       "</div>"
      ],
      "text/plain": [
       "   instant      dteday  season  yr  mnth  holiday  weekday  workingday  \\\n",
       "0        1  01/01/2011       1   0     1        0        6           0   \n",
       "1        2  02/01/2011       1   0     1        0        0           0   \n",
       "2        3  03/01/2011       1   0     1        0        1           1   \n",
       "3        4  04/01/2011       1   0     1        0        2           1   \n",
       "4        5  05/01/2011       1   0     1        0        3           1   \n",
       "\n",
       "   weathersit   temp  atemp   hum  windspeed  casual  registered  count  \n",
       "0           2  14.11  18.18  0.81       0.16     331         654    985  \n",
       "1           2  14.90  17.69  0.70       0.25     131         670    801  \n",
       "2           1   8.05   9.47  0.44       0.25     120        1229   1349  \n",
       "3           1   8.20  10.61  0.59       0.16     108        1454   1562  \n",
       "4           1   9.31  11.46  0.44       0.19      82        1518   1600  "
      ]
     },
     "execution_count": 2,
     "metadata": {},
     "output_type": "execute_result"
    }
   ],
   "source": [
    "#load the dataset\n",
    "df = pd.read_csv(\"coursework2.csv\")\n",
    "df.head()"
   ]
  },
  {
   "cell_type": "markdown",
   "id": "authentic-sunglasses",
   "metadata": {},
   "source": [
    "***Continuous variables*** – ‘dteday‘, ‘temp', 'atemp’, ‘hum’, ‘windspeed’, ‘casual’, ‘registered’, ‘count’. <br>\n",
    "***Categorical Variables*** - 'season', 'yr', 'mnth', 'holiday', ‘weekday’, ‘workingday’, ‘weathersit‘."
   ]
  },
  {
   "cell_type": "code",
   "execution_count": 3,
   "id": "tracked-stake",
   "metadata": {},
   "outputs": [
    {
     "name": "stdout",
     "output_type": "stream",
     "text": [
      "<class 'pandas.core.frame.DataFrame'>\n",
      "RangeIndex: 731 entries, 0 to 730\n",
      "Data columns (total 16 columns):\n",
      " #   Column      Non-Null Count  Dtype  \n",
      "---  ------      --------------  -----  \n",
      " 0   instant     731 non-null    int64  \n",
      " 1   dteday      731 non-null    object \n",
      " 2   season      731 non-null    int64  \n",
      " 3   yr          731 non-null    int64  \n",
      " 4   mnth        731 non-null    int64  \n",
      " 5   holiday     731 non-null    int64  \n",
      " 6   weekday     731 non-null    int64  \n",
      " 7   workingday  731 non-null    int64  \n",
      " 8   weathersit  731 non-null    int64  \n",
      " 9   temp        731 non-null    float64\n",
      " 10  atemp       731 non-null    float64\n",
      " 11  hum         731 non-null    float64\n",
      " 12  windspeed   731 non-null    float64\n",
      " 13  casual      731 non-null    int64  \n",
      " 14  registered  731 non-null    int64  \n",
      " 15  count       731 non-null    int64  \n",
      "dtypes: float64(4), int64(11), object(1)\n",
      "memory usage: 91.5+ KB\n"
     ]
    }
   ],
   "source": [
    "df.info()"
   ]
  },
  {
   "cell_type": "markdown",
   "id": "concrete-knock",
   "metadata": {},
   "source": [
    "From the above command, we notice that every column has 731 rows. This seems to be a very clean set of data and there are **no missing data** in any of the columns. "
   ]
  },
  {
   "cell_type": "markdown",
   "id": "metric-confusion",
   "metadata": {},
   "source": [
    "### Plot a histogram of the counts and use this information to divide the counts into three categories ‘high’, ‘medium’ and ‘low’. Create a new feature in the dataset called ‘usage’ which contains values ‘high’, ‘medium’, and ‘low’ depending on the value in ‘count’."
   ]
  },
  {
   "cell_type": "code",
   "execution_count": 4,
   "id": "distant-staff",
   "metadata": {
    "scrolled": true
   },
   "outputs": [
    {
     "data": {
      "image/png": "[encoded data removed]",
      "text/plain": [
       "<Figure size 432x288 with 1 Axes>"
      ]
     },
     "metadata": {
      "needs_background": "light"
     },
     "output_type": "display_data"
    }
   ],
   "source": [
    "#histogram of count column\n",
    "histogram_count = plt.hist(df[\"count\"], bins = 3, rwidth=0.99)\n",
    "plt.title('Low medium high')\n",
    "plt.xlabel('Number of bikes (count)')\n",
    "plt.ylabel('Frequency')\n",
    "plt.show()"
   ]
  },
  {
   "cell_type": "code",
   "execution_count": 5,
   "id": "third-trance",
   "metadata": {
    "scrolled": false
   },
   "outputs": [
    {
     "data": {
      "text/html": [
       "<div>\n",
       "<style scoped>\n",
       "    .dataframe tbody tr th:only-of-type {\n",
       "        vertical-align: middle;\n",
       "    }\n",
       "\n",
       "    .dataframe tbody tr th {\n",
       "        vertical-align: top;\n",
       "    }\n",
       "\n",
       "    .dataframe thead th {\n",
       "        text-align: right;\n",
       "    }\n",
       "</style>\n",
       "<table border=\"1\" class=\"dataframe\">\n",
       "  <thead>\n",
       "    <tr style=\"text-align: right;\">\n",
       "      <th></th>\n",
       "      <th>instant</th>\n",
       "      <th>dteday</th>\n",
       "      <th>season</th>\n",
       "      <th>yr</th>\n",
       "      <th>mnth</th>\n",
       "      <th>holiday</th>\n",
       "      <th>weekday</th>\n",
       "      <th>workingday</th>\n",
       "      <th>weathersit</th>\n",
       "      <th>temp</th>\n",
       "      <th>atemp</th>\n",
       "      <th>hum</th>\n",
       "      <th>windspeed</th>\n",
       "      <th>casual</th>\n",
       "      <th>registered</th>\n",
       "      <th>count</th>\n",
       "      <th>usage</th>\n",
       "    </tr>\n",
       "  </thead>\n",
       "  <tbody>\n",
       "    <tr>\n",
       "      <th>0</th>\n",
       "      <td>1</td>\n",
       "      <td>01/01/2011</td>\n",
       "      <td>1</td>\n",
       "      <td>0</td>\n",
       "      <td>1</td>\n",
       "      <td>0</td>\n",
       "      <td>6</td>\n",
       "      <td>0</td>\n",
       "      <td>2</td>\n",
       "      <td>14.11</td>\n",
       "      <td>18.18</td>\n",
       "      <td>0.81</td>\n",
       "      <td>0.16</td>\n",
       "      <td>331</td>\n",
       "      <td>654</td>\n",
       "      <td>985</td>\n",
       "      <td>low</td>\n",
       "    </tr>\n",
       "    <tr>\n",
       "      <th>1</th>\n",
       "      <td>2</td>\n",
       "      <td>02/01/2011</td>\n",
       "      <td>1</td>\n",
       "      <td>0</td>\n",
       "      <td>1</td>\n",
       "      <td>0</td>\n",
       "      <td>0</td>\n",
       "      <td>0</td>\n",
       "      <td>2</td>\n",
       "      <td>14.90</td>\n",
       "      <td>17.69</td>\n",
       "      <td>0.70</td>\n",
       "      <td>0.25</td>\n",
       "      <td>131</td>\n",
       "      <td>670</td>\n",
       "      <td>801</td>\n",
       "      <td>low</td>\n",
       "    </tr>\n",
       "    <tr>\n",
       "      <th>2</th>\n",
       "      <td>3</td>\n",
       "      <td>03/01/2011</td>\n",
       "      <td>1</td>\n",
       "      <td>0</td>\n",
       "      <td>1</td>\n",
       "      <td>0</td>\n",
       "      <td>1</td>\n",
       "      <td>1</td>\n",
       "      <td>1</td>\n",
       "      <td>8.05</td>\n",
       "      <td>9.47</td>\n",
       "      <td>0.44</td>\n",
       "      <td>0.25</td>\n",
       "      <td>120</td>\n",
       "      <td>1229</td>\n",
       "      <td>1349</td>\n",
       "      <td>low</td>\n",
       "    </tr>\n",
       "    <tr>\n",
       "      <th>3</th>\n",
       "      <td>4</td>\n",
       "      <td>04/01/2011</td>\n",
       "      <td>1</td>\n",
       "      <td>0</td>\n",
       "      <td>1</td>\n",
       "      <td>0</td>\n",
       "      <td>2</td>\n",
       "      <td>1</td>\n",
       "      <td>1</td>\n",
       "      <td>8.20</td>\n",
       "      <td>10.61</td>\n",
       "      <td>0.59</td>\n",
       "      <td>0.16</td>\n",
       "      <td>108</td>\n",
       "      <td>1454</td>\n",
       "      <td>1562</td>\n",
       "      <td>low</td>\n",
       "    </tr>\n",
       "    <tr>\n",
       "      <th>4</th>\n",
       "      <td>5</td>\n",
       "      <td>05/01/2011</td>\n",
       "      <td>1</td>\n",
       "      <td>0</td>\n",
       "      <td>1</td>\n",
       "      <td>0</td>\n",
       "      <td>3</td>\n",
       "      <td>1</td>\n",
       "      <td>1</td>\n",
       "      <td>9.31</td>\n",
       "      <td>11.46</td>\n",
       "      <td>0.44</td>\n",
       "      <td>0.19</td>\n",
       "      <td>82</td>\n",
       "      <td>1518</td>\n",
       "      <td>1600</td>\n",
       "      <td>low</td>\n",
       "    </tr>\n",
       "  </tbody>\n",
       "</table>\n",
       "</div>"
      ],
      "text/plain": [
       "   instant      dteday  season  yr  mnth  holiday  weekday  workingday  \\\n",
       "0        1  01/01/2011       1   0     1        0        6           0   \n",
       "1        2  02/01/2011       1   0     1        0        0           0   \n",
       "2        3  03/01/2011       1   0     1        0        1           1   \n",
       "3        4  04/01/2011       1   0     1        0        2           1   \n",
       "4        5  05/01/2011       1   0     1        0        3           1   \n",
       "\n",
       "   weathersit   temp  atemp   hum  windspeed  casual  registered  count usage  \n",
       "0           2  14.11  18.18  0.81       0.16     331         654    985   low  \n",
       "1           2  14.90  17.69  0.70       0.25     131         670    801   low  \n",
       "2           1   8.05   9.47  0.44       0.25     120        1229   1349   low  \n",
       "3           1   8.20  10.61  0.59       0.16     108        1454   1562   low  \n",
       "4           1   9.31  11.46  0.44       0.19      82        1518   1600   low  "
      ]
     },
     "execution_count": 5,
     "metadata": {},
     "output_type": "execute_result"
    }
   ],
   "source": [
    "#assign low, medium and high for count\n",
    "low_med_high_values = np.round(histogram_count[1])\n",
    "low_med_high_condition = [df['count'].between(1,low_med_high_values[1],inclusive=True),\n",
    "      df['count'].between(low_med_high_values[1]+1,low_med_high_values[2],inclusive=True),]\n",
    "\n",
    "values = [\"low\", \"medium\"]\n",
    "\n",
    "df['usage'] = np.select(low_med_high_condition,values,\"high\")\n",
    "df.head()"
   ]
  },
  {
   "cell_type": "code",
   "execution_count": 6,
   "id": "engaged-spring",
   "metadata": {
    "scrolled": true
   },
   "outputs": [
    {
     "data": {
      "text/html": [
       "<div>\n",
       "<style scoped>\n",
       "    .dataframe tbody tr th:only-of-type {\n",
       "        vertical-align: middle;\n",
       "    }\n",
       "\n",
       "    .dataframe tbody tr th {\n",
       "        vertical-align: top;\n",
       "    }\n",
       "\n",
       "    .dataframe thead th {\n",
       "        text-align: right;\n",
       "    }\n",
       "</style>\n",
       "<table border=\"1\" class=\"dataframe\">\n",
       "  <thead>\n",
       "    <tr style=\"text-align: right;\">\n",
       "      <th></th>\n",
       "      <th>season</th>\n",
       "      <th>workingday</th>\n",
       "      <th>weathersit</th>\n",
       "      <th>usage</th>\n",
       "    </tr>\n",
       "  </thead>\n",
       "  <tbody>\n",
       "    <tr>\n",
       "      <th>0</th>\n",
       "      <td>1</td>\n",
       "      <td>0</td>\n",
       "      <td>2</td>\n",
       "      <td>low</td>\n",
       "    </tr>\n",
       "    <tr>\n",
       "      <th>1</th>\n",
       "      <td>1</td>\n",
       "      <td>0</td>\n",
       "      <td>2</td>\n",
       "      <td>low</td>\n",
       "    </tr>\n",
       "    <tr>\n",
       "      <th>2</th>\n",
       "      <td>1</td>\n",
       "      <td>1</td>\n",
       "      <td>1</td>\n",
       "      <td>low</td>\n",
       "    </tr>\n",
       "    <tr>\n",
       "      <th>3</th>\n",
       "      <td>1</td>\n",
       "      <td>1</td>\n",
       "      <td>1</td>\n",
       "      <td>low</td>\n",
       "    </tr>\n",
       "    <tr>\n",
       "      <th>4</th>\n",
       "      <td>1</td>\n",
       "      <td>1</td>\n",
       "      <td>1</td>\n",
       "      <td>low</td>\n",
       "    </tr>\n",
       "  </tbody>\n",
       "</table>\n",
       "</div>"
      ],
      "text/plain": [
       "   season  workingday  weathersit usage\n",
       "0       1           0           2   low\n",
       "1       1           0           2   low\n",
       "2       1           1           1   low\n",
       "3       1           1           1   low\n",
       "4       1           1           1   low"
      ]
     },
     "execution_count": 6,
     "metadata": {},
     "output_type": "execute_result"
    }
   ],
   "source": [
    "#new dataframe df1 with three attributes and target\n",
    "df1 = df[[\"season\", \"workingday\", \"weathersit\", \"usage\"]]\n",
    "df1.head()"
   ]
  },
  {
   "cell_type": "markdown",
   "id": "sudden-making",
   "metadata": {},
   "source": [
    "### Write a function to calculate the entropy of a subset of the target values."
   ]
  },
  {
   "cell_type": "code",
   "execution_count": 7,
   "id": "portuguese-australia",
   "metadata": {},
   "outputs": [
    {
     "name": "stdout",
     "output_type": "stream",
     "text": [
      "Entropy of the target:  1.4917401149421707\n"
     ]
    }
   ],
   "source": [
    "def entropy(target):\n",
    "    \n",
    "    \"\"\"calculate the entropy of a given attribute\"\"\"\n",
    "    value_count = Counter(target)\n",
    "    length_target = len(target)\n",
    "    entropy = 0\n",
    "\n",
    "    for label in value_count:\n",
    "        result = -1*(value_count[label]/length_target)*np.log2(value_count[label]/length_target)\n",
    "        entropy+=result\n",
    "\n",
    "    return entropy\n",
    "\n",
    "\n",
    "print(\"Entropy of the target: \", entropy(df1[\"usage\"]))"
   ]
  },
  {
   "cell_type": "markdown",
   "id": "minor-healthcare",
   "metadata": {},
   "source": [
    "### Write a function to calculate the information gain of an attribute.  Which attribute has the highest information gain over the whole dataset."
   ]
  },
  {
   "cell_type": "code",
   "execution_count": 8,
   "id": "innovative-shepherd",
   "metadata": {
    "scrolled": false
   },
   "outputs": [
    {
     "name": "stdout",
     "output_type": "stream",
     "text": [
      "Information Gain for all the attributes:  {'season': 0.2524862810381532, 'workingday': 0.0044543496239708436, 'weathersit': 0.07062140440375142}\n",
      "\n",
      "Attribute with the highest Information Gain:  season\n"
     ]
    }
   ],
   "source": [
    "def informationgain(df, attribute, target):\n",
    "    \n",
    "    \"\"\"calculate the information gain\"\"\"\n",
    "    target_entropy = entropy(df[target])\n",
    "    value_count = Counter(df[attribute])\n",
    "    attribute_entropy = 0\n",
    "    \n",
    "    for label in value_count:\n",
    "        sub_df = df.loc[df[attribute] == label]\n",
    "        label_entropy = (len(sub_df)/len(df))*entropy(sub_df[target])\n",
    "        attribute_entropy+=label_entropy\n",
    "\n",
    "    return target_entropy - attribute_entropy\n",
    "\n",
    "#calculating information gain of each attribute.\n",
    "attributes = df1.columns[:-1]\n",
    "Information_gain = dict([(attribute, informationgain(df1, attribute, \"usage\")) for attribute in attributes])\n",
    "\n",
    "print(\"Information Gain for all the attributes: \", Information_gain)\n",
    "print()\n",
    "print(\"Attribute with the highest Information Gain: \", max(Information_gain, key = Information_gain.get))"
   ]
  },
  {
   "cell_type": "markdown",
   "id": "exotic-province",
   "metadata": {},
   "source": [
    "### Write a function to build a decision tree."
   ]
  },
  {
   "cell_type": "code",
   "execution_count": 9,
   "id": "native-recommendation",
   "metadata": {},
   "outputs": [],
   "source": [
    "def train_test_split(df, test_size):\n",
    "    \n",
    "    \"\"\"Action: splitting the dataset into training and testing sets\"\"\"\n",
    "    \"\"\"Output: return X_train, X_test, y_train, y_test\"\"\"\n",
    "    \n",
    "    if type(test_size) == float:\n",
    "        length_df = len(df)\n",
    "        test_size = round(test_size*length_df)\n",
    "        test_df = df.sample(n = test_size)\n",
    "        train_df = df.drop(test_df.index.tolist())\n",
    "        return train_df, test_df\n",
    "        \n",
    "    else:\n",
    "        print(\"Invalid test size\")\n",
    "        \n",
    "        \n",
    "def decisiontree(df,dataframe,attributes,label = df.columns[-1],parent = None):\n",
    "    \n",
    "    \"\"\"Decision tree\"\"\"\n",
    "    \n",
    "    if len(set(df[label])) <= 1:\n",
    "        return list(df[label])[0]\n",
    "    elif len(df) == 0:\n",
    "        return max(Counter(dataframe[label]), key=Counter(dataframe[label]).get)\n",
    "    elif len(attributes) ==0:\n",
    "        return parent\n",
    "    else:\n",
    "        parent = max(Counter(df[label]), key=Counter(df[label]).get)\n",
    "        item_values = [informationgain(df, attribute, label) for attribute in attributes]\n",
    "        best_index = item_values.index(max(item_values))\n",
    "        best_feature = attributes[best_index]\n",
    "        \n",
    "        tree = {best_feature:{}}\n",
    "        attributes = [attribute for attribute in attributes if attribute != best_feature]\n",
    "        \n",
    "        for value in sorted(list(set(df[best_feature]))):\n",
    "            temp_df = df.where(df[best_feature] == value).dropna()\n",
    "            subtree = decisiontree(temp_df,df,attributes,label,parent)\n",
    "            tree[best_feature][value] = subtree\n",
    "            \n",
    "        return(tree)\n",
    "        \n",
    "        "
   ]
  },
  {
   "cell_type": "code",
   "execution_count": 10,
   "id": "clear-sarah",
   "metadata": {},
   "outputs": [],
   "source": [
    "tree = decisiontree(df1,df1,df1.columns[:-1],parent = None)"
   ]
  },
  {
   "cell_type": "code",
   "execution_count": 11,
   "id": "exempt-aaron",
   "metadata": {},
   "outputs": [
    {
     "name": "stdout",
     "output_type": "stream",
     "text": [
      "{'season': {1: {'workingday': {0.0: {'weathersit': {1.0: 'low',\n",
      "                                                    2.0: 'low',\n",
      "                                                    3.0: 'low'}},\n",
      "                               1.0: {'weathersit': {1.0: 'low',\n",
      "                                                    2.0: 'low',\n",
      "                                                    3.0: 'low'}}}},\n",
      "            2: {'weathersit': {1.0: {'workingday': {0.0: 'medium',\n",
      "                                                    1.0: 'medium'}},\n",
      "                               2.0: {'workingday': {0.0: 'medium',\n",
      "                                                    1.0: 'medium'}},\n",
      "                               3.0: 'low'}},\n",
      "            3: {'weathersit': {1.0: {'workingday': {0.0: 'medium',\n",
      "                                                    1.0: 'medium'}},\n",
      "                               2.0: {'workingday': {0.0: 'medium',\n",
      "                                                    1.0: 'medium'}},\n",
      "                               3.0: {'workingday': {0.0: 'medium',\n",
      "                                                    1.0: 'low'}}}},\n",
      "            4: {'weathersit': {1.0: {'workingday': {0.0: 'medium',\n",
      "                                                    1.0: 'medium'}},\n",
      "                               2.0: {'workingday': {0.0: 'medium',\n",
      "                                                    1.0: 'medium'}},\n",
      "                               3.0: {'workingday': {0.0: 'low', 1.0: 'low'}}}}}}\n"
     ]
    }
   ],
   "source": [
    "pprint(tree)"
   ]
  },
  {
   "cell_type": "markdown",
   "id": "cosmetic-salon",
   "metadata": {},
   "source": [
    "Reference: https://stackoverflow.com/questions/39651638/displaying-a-dictionary-in-a-tree-structure-in-python. I was inspired by this link for visualising the tree."
   ]
  },
  {
   "cell_type": "code",
   "execution_count": 12,
   "id": "ordinary-accountability",
   "metadata": {},
   "outputs": [],
   "source": [
    "def buildtree(dictionary, last_key, current):\n",
    "    for key, value in dictionary.items():\n",
    "        if type(key) == int or type(key) == float:\n",
    "            for num in range(current - 1):\n",
    "                print(\"|\", end = \"\")\n",
    "                \n",
    "            print(last_key, \"= \", end=\"\")\n",
    "            print(key, \":\", end=\"\")\n",
    "        else:\n",
    "            if current > 0:\n",
    "                print(\"\")\n",
    "                \n",
    "            current+=1\n",
    "            \n",
    "        if type(value) is dict:\n",
    "            buildtree(value, key, current)\n",
    "        else:\n",
    "            print(value)"
   ]
  },
  {
   "cell_type": "markdown",
   "id": "flexible-basketball",
   "metadata": {},
   "source": [
    "### Create a new attribute called ‘tempbins’ by binning the ‘temp’ attribute into ‘low’ if ‘temp’ < 12, ‘medium’ if 12 ≤ ‘temp’ < 24, and ‘high’ if ‘temp’ ≥ 24. Does this attribute alter the structure of the decision tree?"
   ]
  },
  {
   "cell_type": "code",
   "execution_count": 14,
   "id": "stopped-tongue",
   "metadata": {},
   "outputs": [],
   "source": [
    "def temp_condition(row):\n",
    "    if row[\"temp\"] < 12:\n",
    "        val = \"low\"\n",
    "    elif row[\"temp\"] >= 12 and row[\"temp\"] < 24:\n",
    "        val = \"medium\"\n",
    "    else:\n",
    "        val = \"high\"\n",
    "        \n",
    "    return val\n",
    "\n",
    "df['tempbins'] = df.apply(temp_condition, axis = 1)\n",
    "df1['tempbins'] = df['tempbins']\n",
    "df1 = df1[[\"season\", \"workingday\", \"weathersit\", \"tempbins\", \"usage\"]]\n"
   ]
  },
  {
   "cell_type": "code",
   "execution_count": 15,
   "id": "confused-thought",
   "metadata": {},
   "outputs": [],
   "source": [
    "tree = decisiontree(df1,df1,df1.columns[:-1],parent = None)"
   ]
  },
  {
   "cell_type": "code",
   "execution_count": 22,
   "id": "accompanied-coast",
   "metadata": {},
   "outputs": [
    {
     "name": "stdout",
     "output_type": "stream",
     "text": [
      "{'tempbins': {'high': {'weathersit': {1.0: {'season': {2.0: {'workingday': {0.0: 'high',\n",
      "                                                                            1.0: 'high'}},\n",
      "                                                       3.0: {'workingday': {0.0: 'medium',\n",
      "                                                                            1.0: 'medium'}},\n",
      "                                                       4.0: {'workingday': {1.0: 'high'}}}},\n",
      "                                      2.0: {'season': {2.0: {'workingday': {0.0: 'medium',\n",
      "                                                                            1.0: 'medium'}},\n",
      "                                                       3.0: {'workingday': {0.0: 'medium',\n",
      "                                                                            1.0: 'medium'}},\n",
      "                                                       4.0: {'workingday': {0.0: 'medium',\n",
      "                                                                            1.0: 'medium'}}}},\n",
      "                                      3.0: {'season': {3.0: {'workingday': {0.0: 'medium',\n",
      "                                                                            1.0: 'low'}},\n",
      "                                                       4.0: 'medium'}}}},\n",
      "              'low': {'season': {1.0: {'weathersit': {1.0: {'workingday': {0.0: 'low',\n",
      "                                                                           1.0: 'low'}},\n",
      "                                                      2.0: {'workingday': {0.0: 'low',\n",
      "                                                                           1.0: 'low'}},\n",
      "                                                      3.0: 'low'}},\n",
      "                                 2.0: 'low',\n",
      "                                 4.0: {'workingday': {0.0: {'weathersit': {1.0: 'low',\n",
      "                                                                           2.0: 'low',\n",
      "                                                                           3.0: 'low'}},\n",
      "                                                      1.0: 'medium'}}}},\n",
      "              'medium': {'weathersit': {1.0: {'season': {1.0: {'workingday': {0.0: 'medium',\n",
      "                                                                              1.0: 'medium'}},\n",
      "                                                         2.0: {'workingday': {0.0: 'medium',\n",
      "                                                                              1.0: 'medium'}},\n",
      "                                                         3.0: {'workingday': {0.0: 'high',\n",
      "                                                                              1.0: 'high'}},\n",
      "                                                         4.0: {'workingday': {0.0: 'medium',\n",
      "                                                                              1.0: 'medium'}}}},\n",
      "                                        2.0: {'season': {1.0: {'workingday': {0.0: 'low',\n",
      "                                                                              1.0: 'low'}},\n",
      "                                                         2.0: {'workingday': {0.0: 'medium',\n",
      "                                                                              1.0: 'medium'}},\n",
      "                                                         3.0: {'workingday': {0.0: 'medium',\n",
      "                                                                              1.0: 'medium'}},\n",
      "                                                         4.0: {'workingday': {0.0: 'medium',\n",
      "                                                                              1.0: 'medium'}}}},\n",
      "                                        3.0: 'low'}}}}\n"
     ]
    }
   ],
   "source": [
    "pprint(tree)"
   ]
  },
  {
   "cell_type": "markdown",
   "id": "brown-intensity",
   "metadata": {},
   "source": [
    "As we can see from the above cell, the structure of the decision tree is different from the previous one. Now, 'tempbins' is the root node. This is because the ‘tempbins’ attribute has the maximum information gain and so the ‘tempbins’ as the root node and the data is split based on the same feature."
   ]
  },
  {
   "cell_type": "code",
   "execution_count": null,
   "id": "statutory-sunset",
   "metadata": {},
   "outputs": [],
   "source": []
  },
  {
   "cell_type": "code",
   "execution_count": null,
   "id": "atmospheric-society",
   "metadata": {},
   "outputs": [],
   "source": []
  },
  {
   "cell_type": "code",
   "execution_count": null,
   "id": "overall-sailing",
   "metadata": {},
   "outputs": [],
   "source": []
  },
  {
   "cell_type": "code",
   "execution_count": null,
   "id": "excited-perth",
   "metadata": {},
   "outputs": [],
   "source": []
  }
 ],
 "metadata": {
  "kernelspec": {
   "display_name": "Python 3 (ipykernel)",
   "language": "python",
   "name": "python3"
  },
  "language_info": {
   "codemirror_mode": {
    "name": "ipython",
    "version": 3
   },
   "file_extension": ".py",
   "mimetype": "text/x-python",
   "name": "python",
   "nbconvert_exporter": "python",
   "pygments_lexer": "ipython3",
   "version": "3.9.7"
  }
 },
 "nbformat": 4,
 "nbformat_minor": 5
}
